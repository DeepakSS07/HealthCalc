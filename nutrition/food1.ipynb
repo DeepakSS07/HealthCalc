{
 "cells": [
  {
   "cell_type": "code",
   "execution_count": 1,
   "id": "42d14ea6-ee75-42a8-8145-bc3f6d979905",
   "metadata": {},
   "outputs": [],
   "source": [
    "import pandas as pd\n",
    "# Correcting the input and rerunning the dataframe creation process\n",
    "food_data = {\n",
    "    'Food Item': [\n",
    "        'Apple', \n",
    "        'Artichoke',\n",
    "        'Asparagus', \n",
    "        'Avocado', \n",
    "        'Bacon', \n",
    "        'Banana', \n",
    "        'Beetroot', \n",
    "        'Bitter Gourd', \n",
    "        'Bottle Gourd', \n",
    "        'Bread', \n",
    "        'Brinjal', \n",
    "        'Broccoli', \n",
    "        'Butter', \n",
    "        'Cabbage', \n",
    "        'Capsicum', \n",
    "        'Carrot', \n",
    "        'Cauliflower', \n",
    "        'Cheese', \n",
    "        'Chicken', \n",
    "        'Chickpeas', \n",
    "        'Chili Pepper', \n",
    "        'Chili Powder', \n",
    "        'Chowmein Noodles', \n",
    "        'Cinnamon', 'Coriander', 'Corn', 'Cornflake', \n",
    "        'Crab Meat', 'Cucumber', 'Drumsticks', 'Egg', 'Fish', 'Garlic', 'Ginger', 'Green Mint', 'Green Peas', 'Ice', \n",
    "        'Jack Fruit', 'Ketchup', 'Kimchi', 'Kiwi', 'Lemon', 'Mango', 'Mayonnaise', 'Milk', 'Mushroom', 'Mutton', \n",
    "        'Okra', 'Olive Oil', 'Onion', 'Orange', 'Paneer', 'Papaya', 'Pear', 'Pineapple', 'Pointed Gourd', 'Pomegranate', \n",
    "        'Potato', 'Pumpkin', 'Radish', 'Red Beans', 'Red Lentils', 'Rice', 'Salt', 'Sausage', 'Seaweed', 'Snake Gourd', \n",
    "        'Soy Sauce', 'Soya Chunks', 'Soyabean', 'Spinach', 'Spring onion', 'Strawberry', 'Sugar', 'Sweet Potato', 'Tomato', \n",
    "        'Turnip', 'Walnut', 'Watermelon', 'Wheat', 'Yellow Lentils'\n",
    "    ],\n",
    "    'Calories (kcal)': [52, 47, 20, 160, 541, 89, 43, 17, 14, 265, 25, 34, 717, 25, 20, 41, 25, 402, 239, 164, 40, 282, \n",
    "                        247, 247, 23, 86, 93, 16, 64, 155, 206, 149, 149, 45, 81, 0, 95, 112, 15, 61, 29, 60, 680, 42, \n",
    "                        25, 294, 33, 884, 40, 47, 257, 43, 57, 50, 22, 83, 77, 82, 130, 0, 346, 45, 17, 53, 345, 446, \n",
    "                        23, 32, 32, 387, 76, 387, 18, 141, 282, 86, 57],\n",
    "    'Protein (g)': [0.3, 3.3, 2.2, 2, 37, 1.1, 1.6, 1, 0.6, 9, 1, 2.8, 0.9, 1.3, 0.9, 0.9, 1.9, 25, 27, 9, 2, 12, 9, \n",
    "                    4, 2.1, 3.4, 18, 0.7, 9.4, 13, 22, 6.4, 1.8, 3.2, 5, 0, 2.1, 0.9, 1.1, 1.1, 1.1, 0.8, 0.6, 3.4, \n",
    "                    2.1, 25, 2.2, 0, 1.1, 1.2, 21, 0.5, 0.4, 0.5, 1.7, 2.5, 0.6, 8.7, 9, 2.7, 0, 13, 1.7, 1, 13, 52, \n",
    "                    2.9, 2.6, 1.5, 0, 1.2, 1.6, 1.7, 2.9],\n",
    "    'Fat (g)': [0.2, 0.2, 0.1, 15, 42, 0.3, 0.2, 0.2, 0.1, 3.2, 0.2, 0.4, 81, 0.1, 0.2, 0.2, 0.3, 33, 14, 2.6, 0.2, \n",
    "                10, 10, 1.2, 1.5, 1.5, 2, 0.1, 1.6, 11, 12, 0.5, 0.8, 0.6, 0.4, 0, 0.6, 0.1, 1.2, 0.5, 0.3, 0.4, 0, \n",
    "                0.2, 0.5, 21, 0.2, 100, 0.1, 0.1, 20, 0.3, 0.1, 0.1, 0.1, 0.6, 3.2, 0.4, 8.1, 1.1, 0, 29, 0.2, 0.2, \n",
    "                0.6, 19, 20, 0.4, 0.4, 0.4, 14, 0.9, 29, 0.2, 15, 15, 0.3, 0.1],\n",
    "    'Carbohydrates (g)': [14, 11, 3.9, 9, 1.4, 23, 10, 3.7, 3.4, 49, 6, 7, 0.1, 6, 4.6, 9.6, 5, 1.3, 0, 27, 7, 39, \n",
    "                          33, 80, 3.3, 19, 0, 4, 8, 1.1, 0, 33, 18, 6.8, 14, 0, 23, 25, 3.1, 15, 3, 16, 0, 4.9, 6.6, \n",
    "                          0, 7.5, 0, 9, 12, 6, 0.5, 0.8, 10, 12, 10, 1.2, 13, 13.3, 28, 0, 0, 4.6, 2.2, 5, 21, 30, \n",
    "                          63, 3.6, 2.6, 2.5, 0, 3.9, 15, 10, 6.3],\n",
    "    'Fiber (g)': [2.4, 5.4, 2, 7, 0, 2.6, 2.8, 2.4, 0.5, 2.7, 3, 2.6, 0, 2.5, 1.7, 2.8, 2, 0, 0, 8, 0.6, 3.2, 2.9, \n",
    "                  53, 2.8, 7.3, 0, 0.7, 3.1, 0, 0, 2.1, 0.8, 2.8, 4.5, 0, 1.5, 0.3, 3.5, 3, 2.8, 1.7, 0, 0, 1.7, \n",
    "                  0, 3.2, 0, 1.7, 2.4, 0.2, 2.3, 2.1, 0.8, 0.5, 1.7, 1.4, 2.6, 8.2, 0, 0, 1.6, 2, 1.5, 4, 6.7, 2.9, \n",
    "                  1.7, 3, 0, 2.2, 6, 2.8, 1.6],\n",
    "  \n",
    "    'Sugar (g)': [\n",
    "        10, 1.2, 1.9, 0.7, 0, 12, 6.8, 0, 0, 4.9, 3.5, 1.7, 0.1, 3.2, 2.4, 4.7, 1.9, 1.1, 0, 0, 1.2, 1.9, 0.3, \n",
    "        80, 0.9, 6.8, 0, 1.2, 3.5, 0, 0, 0, 0, 0, 5.2, 0, 19.1, 4.2, 1.1, 9, 2.5, 13.7, 3.7, 1.8, 0, 1.6, 0, \n",
    "        4.5, 8.1, 3.3, 0.6, 0.5, 6.8, 7.8, 9.9, 1, 0.5, 8.7, 0, 0, 1.3, 4.6, 0.2, 0.5, 4.9, 0, 0, 1.9, 1.2, 1.4, \n",
    "        5.1, 2.9, 2.6, 8, 9, 0, 5.7\n",
    "    ]\n",
    "}\n",
    "\n",
    "\n"
   ]
  },
  {
   "cell_type": "code",
   "execution_count": 2,
   "id": "7d3ae641-9965-4861-9b72-558a5c428650",
   "metadata": {},
   "outputs": [
    {
     "name": "stdout",
     "output_type": "stream",
     "text": [
      "Food Item: 81\n",
      "Calories (kcal): 77\n",
      "Protein (g): 74\n",
      "Fat (g): 78\n",
      "Carbohydrates (g): 76\n",
      "Fiber (g): 74\n",
      "Sugar (g): 77\n"
     ]
    }
   ],
   "source": [
    "for key, value in food_data.items():\n",
    "    print(f\"{key}: {len(value)}\")"
   ]
  },
  {
   "cell_type": "code",
   "execution_count": null,
   "id": "e38c97d2-c0a1-4495-aa45-08990a1b8c0f",
   "metadata": {},
   "outputs": [],
   "source": []
  }
 ],
 "metadata": {
  "kernelspec": {
   "display_name": "Python 3 (ipykernel)",
   "language": "python",
   "name": "python3"
  },
  "language_info": {
   "codemirror_mode": {
    "name": "ipython",
    "version": 3
   },
   "file_extension": ".py",
   "mimetype": "text/x-python",
   "name": "python",
   "nbconvert_exporter": "python",
   "pygments_lexer": "ipython3",
   "version": "3.11.4"
  }
 },
 "nbformat": 4,
 "nbformat_minor": 5
}
